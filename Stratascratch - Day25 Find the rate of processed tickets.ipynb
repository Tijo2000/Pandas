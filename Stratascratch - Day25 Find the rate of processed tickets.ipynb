{
 "cells": [
  {
   "cell_type": "code",
   "execution_count": null,
   "metadata": {},
   "outputs": [],
   "source": [
    "#Find the rate of processed tickets for each type\n",
    "\n",
    "# Import your libraries\n",
    "import pandas as pd\n",
    "\n",
    "# Start writing code\n",
    "facebook_complaints.groupby('type')['processed'].mean().reset_index()\n",
    "\n",
    "\n",
    "\n",
    "select type, avg(processed) as processed_rate\n",
    "from facebook_complaints\n",
    "group by type;"
   ]
  }
 ],
 "metadata": {
  "language_info": {
   "name": "python"
  }
 },
 "nbformat": 4,
 "nbformat_minor": 2
}
