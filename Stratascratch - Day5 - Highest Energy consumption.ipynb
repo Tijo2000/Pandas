{
 "cells": [
  {
   "cell_type": "code",
   "execution_count": null,
   "metadata": {},
   "outputs": [],
   "source": [
    "#Stratascratch\n",
    "#Day5\n",
    "Highest Energy Consumption\n",
    "Find the date with the highest total energy consumption from the Meta/Facebook data centers. Output the date along with the total energy consumption across all data centers.\n",
    "\n",
    "\n",
    "# Import your libraries\n",
    "import pandas as pd\n",
    "\n",
    "# Start writing code\n",
    "fb_eu_energy.head()\n",
    "\n",
    "#First we need to concat all the datas\n",
    "result_df = pd.concat([fb_eu_energy,fb_asia_energy,fb_na_energy])\n",
    "result_df = result_df.groupby('date')['consumption'].sum().reset_index().sort_values(by='consumption',ascending=False)\n",
    "result_df[result_df['consumption'] == result_df['consumption'].max()]\n",
    "\n"
   ]
  }
 ],
 "metadata": {
  "language_info": {
   "name": "python"
  },
  "orig_nbformat": 4
 },
 "nbformat": 4,
 "nbformat_minor": 2
}
