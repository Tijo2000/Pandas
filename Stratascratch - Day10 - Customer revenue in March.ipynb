{
 "cells": [
  {
   "cell_type": "code",
   "execution_count": null,
   "metadata": {},
   "outputs": [],
   "source": [
    "#Stratascratch\n",
    "#Day10\n",
    "# Customer Revenue In March\n",
    "\n",
    "# Import your libraries\n",
    "import pandas as pd\n",
    "\n",
    "# Start writing code\n",
    "orders.head()\n",
    "\n",
    "orders['order_date'] = orders['order_date'].dt.strftime('%Y-%m-%d')\n",
    "orders[orders['order_date'].between('2019-03-01','2019-03-31')].groupby('cust_id')['total_order_cost'].sum().reset_index().rename(columns={'total_order_cost':'revenue'}).sort_values(by='revenue',ascending = False)"
   ]
  }
 ],
 "metadata": {
  "language_info": {
   "name": "python"
  },
  "orig_nbformat": 4
 },
 "nbformat": 4,
 "nbformat_minor": 2
}
