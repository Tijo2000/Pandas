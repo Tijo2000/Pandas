{
 "cells": [
  {
   "cell_type": "code",
   "execution_count": null,
   "metadata": {},
   "outputs": [],
   "source": [
    "#Stratascratch\n",
    "#Day9\n",
    "# Classify Business Type\n",
    "\n",
    "# Import your libraries\n",
    "import pandas as pd\n",
    "import numpy as np\n",
    "\n",
    "# Start writing code\n",
    "sf_restaurant_health_violations.head()\n",
    "\n",
    "result_df =  sf_restaurant_health_violations[['business_name']].drop_duplicates()\n",
    "low = result_df['business_name'].str.lower()\n",
    "result_df['business_type'] = np.where(low.str.contains('restaurant'),'restaurant',np.where(low.str.contains('school'),'school',np.where(low.str.contains(r'cafe|café|coffee'),'cafe','other')))\n",
    "result_df"
   ]
  }
 ],
 "metadata": {
  "language_info": {
   "name": "python"
  },
  "orig_nbformat": 4
 },
 "nbformat": 4,
 "nbformat_minor": 2
}
