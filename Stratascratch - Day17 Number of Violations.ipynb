{
 "cells": [
  {
   "cell_type": "code",
   "execution_count": null,
   "metadata": {},
   "outputs": [],
   "source": [
    "#Stratascratch\n",
    "#Day17\n",
    "#Number of violations\n",
    "\n",
    "# Import your libraries\n",
    "import pandas as pd\n",
    "import datetime as dt\n",
    "\n",
    "# Start writing code\n",
    "sf_restaurant_health_violations.head()\n",
    "\n",
    "df = sf_restaurant_health_violations[sf_restaurant_health_violations['business_name']== 'Roxanne Cafe']\n",
    "\n",
    "df['year'] = df['inspection_date'].dt.year\n",
    "df.groupby('year')['violation_id'].count().reset_index()\n",
    "\n"
   ]
  }
 ],
 "metadata": {
  "language_info": {
   "name": "python"
  },
  "orig_nbformat": 4
 },
 "nbformat": 4,
 "nbformat_minor": 2
}
