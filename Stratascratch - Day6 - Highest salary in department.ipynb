{
 "cells": [
  {
   "cell_type": "code",
   "execution_count": null,
   "metadata": {},
   "outputs": [],
   "source": [
    "#Stratascratch\n",
    "#Day6\n",
    "Highest Salary In Department\n",
    "Find the employee with the highest salary per department.\n",
    "Output the department name, employee's first name along with the corresponding salary.\n",
    "\n",
    "# Import your libraries\n",
    "import pandas as pd\n",
    "\n",
    "# Start writing code\n",
    "employee.head()\n",
    "\n",
    "result_df =  employee.groupby('department')['salary'].max().reset_index()\n",
    "result_df.rename(columns={'salary': 'highest_salary'},inplace = True)\n",
    "result_df\n",
    "\n",
    "df = pd.merge(employee, result_df, on = 'department', how = 'left')\n",
    "df\n",
    "\n",
    "df[df['salary']==df['highest_salary']][['department', 'first_name', 'salary']]\n",
    "\n"
   ]
  }
 ],
 "metadata": {
  "language_info": {
   "name": "python"
  },
  "orig_nbformat": 4
 },
 "nbformat": 4,
 "nbformat_minor": 2
}
