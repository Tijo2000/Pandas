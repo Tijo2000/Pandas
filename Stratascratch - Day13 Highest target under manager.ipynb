{
 "cells": [
  {
   "cell_type": "code",
   "execution_count": null,
   "metadata": {},
   "outputs": [],
   "source": [
    "#Stratascratch\n",
    "#Day13\n",
    "# Highest Target Under Manager\n",
    "\n",
    "# Import your libraries\n",
    "import pandas as pd\n",
    "\n",
    "# Start writing code\n",
    "salesforce_employees.head()\n",
    "\n",
    "df = salesforce_employees[salesforce_employees['manager_id']==13][['first_name','target']]\n",
    "df[df['target']== df['target'].max()]"
   ]
  }
 ],
 "metadata": {
  "language_info": {
   "name": "python"
  },
  "orig_nbformat": 4
 },
 "nbformat": 4,
 "nbformat_minor": 2
}
