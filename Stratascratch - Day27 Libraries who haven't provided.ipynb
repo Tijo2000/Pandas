{
 "cells": [
  {
   "cell_type": "code",
   "execution_count": null,
   "metadata": {},
   "outputs": [],
   "source": [
    "import pandas as pd\n",
    "\n",
    "# Start writing code\n",
    "library_usage.head()\n",
    "\n",
    "library_usage[(library_usage['circulation_active_year']==2016) &  (library_usage['notice_preference_definition']=='email') & (library_usage['provided_email_address'] == False)][['home_library_code']].drop_duplicates()\n",
    "\n",
    "\n",
    "select distinct home_library_code\n",
    "from library_usage\n",
    "where circulation_active_year = 2016\n",
    "AND notice_preference_definition = 'email'\n",
    "and provided_email_address = 0;\n"
   ]
  }
 ],
 "metadata": {
  "language_info": {
   "name": "python"
  }
 },
 "nbformat": 4,
 "nbformat_minor": 2
}
