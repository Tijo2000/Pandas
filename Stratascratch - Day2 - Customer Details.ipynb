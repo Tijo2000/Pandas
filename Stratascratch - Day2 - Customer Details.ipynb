{
 "cells": [
  {
   "cell_type": "code",
   "execution_count": null,
   "metadata": {},
   "outputs": [],
   "source": [
    "#Stratascratch\n",
    "#Day2\n",
    "Customer Details\n",
    "Find the details of each customer regardless of whether the customer made an order. Output the customer's first name, last name, and the city along with the order details.\n",
    "You may have duplicate rows in your results due to a customer ordering several of the same items. Sort records based on the customer's first name and the order details in ascending order.\n",
    "\n",
    "\n",
    "# Import your libraries\n",
    "import pandas as pd\n",
    "\n",
    "# Start writing code\n",
    "customers.head()\n",
    "\n",
    "orders.head()\n",
    "\n",
    "#Merging both columns\n",
    "result_df = pd.merge(customers,orders,left_on = 'id', right_on = 'cust_id', how = 'left')\n",
    "result_df.head()"
   ]
  }
 ],
 "metadata": {
  "language_info": {
   "name": "python"
  },
  "orig_nbformat": 4
 },
 "nbformat": 4,
 "nbformat_minor": 2
}
