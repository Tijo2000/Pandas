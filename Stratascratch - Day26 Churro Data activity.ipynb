{
 "cells": [
  {
   "cell_type": "code",
   "execution_count": null,
   "metadata": {},
   "outputs": [],
   "source": [
    "#Churro Activity Date\n",
    "# Import your libraries\n",
    "import pandas as pd\n",
    "\n",
    "# Start writing code\n",
    "df = los_angeles_restaurant_health_inspections[\n",
    "(los_angeles_restaurant_health_inspections['facility_name']=='STREET CHURROS') & (los_angeles_restaurant_health_inspections['score']<95)]\n",
    "\n",
    "df[['activity_date','pe_description']]\n",
    "\n",
    "\n",
    "\n",
    "select activity_date , pe_description \n",
    "from los_angeles_restaurant_health_inspections\n",
    "where facility_name = 'STREET CHURROS'\n",
    "and score<95;"
   ]
  }
 ],
 "metadata": {
  "language_info": {
   "name": "python"
  }
 },
 "nbformat": 4,
 "nbformat_minor": 2
}
