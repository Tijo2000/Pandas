{
 "cells": [
  {
   "cell_type": "code",
   "execution_count": null,
   "metadata": {},
   "outputs": [],
   "source": [
    "#Stratascratch\n",
    "#Day16\n",
    "# Employee and Manager Salaries\n",
    "\n",
    "# Import your libraries\n",
    "import pandas as pd\n",
    "\n",
    "# Start writing code\n",
    "employee.head()\n",
    "\n",
    "df = pd.merge(employee, employee, left_on = 'manager_id' , right_on = 'id' , how = 'left')\n",
    "result_df = df[df['salary_x']>df['salary_y']][['first_name_x','salary_x']]\n"
   ]
  }
 ],
 "metadata": {
  "language_info": {
   "name": "python"
  },
  "orig_nbformat": 4
 },
 "nbformat": 4,
 "nbformat_minor": 2
}
