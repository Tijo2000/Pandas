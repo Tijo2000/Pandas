{
 "cells": [
  {
   "cell_type": "code",
   "execution_count": null,
   "metadata": {},
   "outputs": [],
   "source": [
    "#Stratascratch\n",
    "#Day18\n",
    "#Finding User Purchases\n",
    "\n",
    "# Import your libraries\n",
    "import pandas as pd\n",
    "\n",
    "# Start writing code\n",
    "amazon_transactions.head()\n",
    "\n",
    "df = amazon_transactions.sort_values(['user_id','created_at'])\n",
    "df['nexT_purchase_time'] = df.groupby('user_id')['created_at'].diff()\n",
    "df[df['nexT_purchase_time']<= pd.Timedelta(days=7)]['user_id'].unique(\n",
    "    )\n",
    "\n"
   ]
  }
 ],
 "metadata": {
  "language_info": {
   "name": "python"
  },
  "orig_nbformat": 4
 },
 "nbformat": 4,
 "nbformat_minor": 2
}
