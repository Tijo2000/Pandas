{
 "cells": [
  {
   "cell_type": "code",
   "execution_count": null,
   "metadata": {},
   "outputs": [],
   "source": [
    "#Pandas Leetcode 10 - Data manipulation\n",
    "Input: \n",
    "Employee table:\n",
    "+----+--------+\n",
    "| id | salary |\n",
    "+----+--------+\n",
    "| 1  | 100    |\n",
    "| 2  | 200    |\n",
    "| 3  | 300    |\n",
    "+----+--------+\n",
    "n = 2\n",
    "Output: \n",
    "+------------------------+\n",
    "| getNthHighestSalary(2) |\n",
    "+------------------------+\n",
    "| 200                    |\n",
    "+------------------------+\n",
    "Example 2:\n",
    "\n",
    "Input: \n",
    "Employee table:\n",
    "+----+--------+\n",
    "| id | salary |\n",
    "+----+--------+\n",
    "| 1  | 100    |\n",
    "+----+--------+\n",
    "n = 2\n",
    "Output: \n",
    "+------------------------+\n",
    "| getNthHighestSalary(2) |\n",
    "+------------------------+\n",
    "| null                   |\n",
    "+------------------------+"
   ]
  },
  {
   "cell_type": "code",
   "execution_count": null,
   "metadata": {},
   "outputs": [],
   "source": [
    "import pandas as pd\n",
    "\n",
    "def nth_highest_salary(employee: pd.DataFrame, N: int) -> pd.DataFrame:\n",
    "    # Drop any duplicate salary values to avoid counting duplicates as separate salary ranks\n",
    "    unique_salaries = employee['salary'].drop_duplicates().reset_index(drop=True)\n",
    "    \n",
    "    # Sort the salaries in descending order\n",
    "    sorted_salaries = unique_salaries.sort_values(ascending=False)\n",
    "\n",
    "    # Check if n is within the valid range of salaries\n",
    "    if 1 <= N <= len(sorted_salaries):\n",
    "        nth_highest_salary_value = sorted_salaries.iloc[N - 1]\n",
    "    else:\n",
    "        nth_highest_salary_value = None\n",
    "    \n",
    "    # Create a DataFrame to hold the result\n",
    "    result_df = pd.DataFrame({'getNthHighestSalary':[nth_highest_salary_value]})\n",
    "    \n",
    "    \n",
    "    return result_df"
   ]
  }
 ],
 "metadata": {
  "language_info": {
   "name": "python"
  },
  "orig_nbformat": 4
 },
 "nbformat": 4,
 "nbformat_minor": 2
}
