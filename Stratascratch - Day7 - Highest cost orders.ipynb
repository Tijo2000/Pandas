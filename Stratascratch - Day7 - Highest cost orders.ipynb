{
 "cells": [
  {
   "cell_type": "code",
   "execution_count": null,
   "metadata": {},
   "outputs": [],
   "source": [
    "#Stratascratch\n",
    "#Day7\n",
    "# Highest Cost Orders\n",
    "\n",
    "# Import your libraries\n",
    "import pandas as pd\n",
    "import datetime as dt\n",
    "\n",
    "# Start writing code\n",
    "customers.head()\n",
    "\n",
    "df = pd.merge(orders,customers, left_on= 'cust_id', right_on ='id', how = 'left')\n",
    "# overwriting data after changing format\n",
    "df[\"order_date\"]= pd.to_datetime(df[\"order_date\"])\n",
    "df[\"order_date\"] = df[\"order_date\"].dt.strftime('%Y-%m-%d')\n",
    "\n",
    "result_df = df.groupby(['first_name','order_date'])['total_order_cost'].sum().reset_index().sort_values(by='total_order_cost',ascending=False).head(1).rename(columns = {'total_order_cost':'max_cost'})\n",
    "\n"
   ]
  }
 ],
 "metadata": {
  "language_info": {
   "name": "python"
  },
  "orig_nbformat": 4
 },
 "nbformat": 4,
 "nbformat_minor": 2
}
