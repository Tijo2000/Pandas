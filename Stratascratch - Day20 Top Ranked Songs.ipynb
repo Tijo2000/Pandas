{
 "cells": [
  {
   "cell_type": "code",
   "execution_count": null,
   "metadata": {},
   "outputs": [],
   "source": [
    "#Stratascratch\n",
    "#Day20\n",
    "#Top Ranked Songs\n",
    "\n",
    "# Import your libraries\n",
    "import pandas as pd\n",
    "\n",
    "# Start writing code\n",
    "spotify_worldwide_daily_song_ranking.head()\n",
    "\n",
    "df = spotify_worldwide_daily_song_ranking[spotify_worldwide_daily_song_ranking['position']==1]\n",
    "df.groupby('trackname')['id'].count().reset_index().rename(columns = {'id': 'times_top1'}).sort_values(by ='times_top1', ascending = False)\n",
    "\n",
    "\n"
   ]
  }
 ],
 "metadata": {
  "language_info": {
   "name": "python"
  },
  "orig_nbformat": 4
 },
 "nbformat": 4,
 "nbformat_minor": 2
}
