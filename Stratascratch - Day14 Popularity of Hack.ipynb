{
 "cells": [
  {
   "cell_type": "code",
   "execution_count": null,
   "metadata": {},
   "outputs": [],
   "source": [
    "#Stratascratch\n",
    "#Day14\n",
    "# Popularity of Hack\n",
    "\n",
    "# Import your libraries\n",
    "import pandas as pd\n",
    "\n",
    "# Start writing code\n",
    "facebook_employees.head()\n",
    "\n",
    "facebook_hack_survey.head()\n",
    "\n",
    "result_df = pd.merge(facebook_hack_survey,facebook_employees, left_on = 'employee_id', right_on = 'id', how = 'left').groupby('location')['popularity'].mean().reset_index()"
   ]
  }
 ],
 "metadata": {
  "language_info": {
   "name": "python"
  },
  "orig_nbformat": 4
 },
 "nbformat": 4,
 "nbformat_minor": 2
}
