{
 "cells": [
  {
   "cell_type": "code",
   "execution_count": null,
   "metadata": {},
   "outputs": [],
   "source": [
    "#Stratascratch\n",
    "#Day12\n",
    "# Top Cool Votes\n",
    "\n",
    "# Import your libraries\n",
    "import pandas as pd\n",
    "\n",
    "# Start writing code\n",
    "yelp_reviews.head()\n",
    "df = yelp_reviews.groupby(['business_name','review_text'])['cool'].sum().reset_index().sort_values(by ='cool', ascending = False)\n",
    "df[df['cool']== df['cool'].max()][['business_name','review_text']]"
   ]
  }
 ],
 "metadata": {
  "language_info": {
   "name": "python"
  },
  "orig_nbformat": 4
 },
 "nbformat": 4,
 "nbformat_minor": 2
}
