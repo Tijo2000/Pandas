{
 "cells": [
  {
   "cell_type": "code",
   "execution_count": null,
   "metadata": {},
   "outputs": [],
   "source": [
    "#Stratascratch\n",
    "#Day19\n",
    "#FFind all posts which were reacted to with a heart\n",
    "\n",
    "# Import your libraries\n",
    "import pandas as pd\n",
    "\n",
    "# Start writing code\n",
    "facebook_reactions.head()\n",
    "\n",
    "merged_df = pd.merge(facebook_posts,facebook_reactions, on = 'post_id' , how = 'left')\n",
    "merged_df[merged_df['reaction']=='heart'][['post_id','poster_x','post_text','post_keywords','post_date']].rename(columns={'poster_x':'poster'}).drop_duplicates()\n",
    "\n",
    "\n"
   ]
  }
 ],
 "metadata": {
  "language_info": {
   "name": "python"
  },
  "orig_nbformat": 4
 },
 "nbformat": 4,
 "nbformat_minor": 2
}
