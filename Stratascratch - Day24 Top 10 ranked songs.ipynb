{
 "cells": [
  {
   "cell_type": "code",
   "execution_count": null,
   "metadata": {},
   "outputs": [],
   "source": [
    "# Import your libraries\n",
    "import pandas as pd\n",
    "\n",
    "# Start writing code\n",
    "billboard_top_100_year_end.head()\n",
    "\n",
    "df = billboard_top_100_year_end[billboard_top_100_year_end['year']==2010]\n",
    "df[df['year_rank']<=10][['year_rank','group_name','song_name']].drop_duplicates().sort_values(by = 'year_rank')\n",
    "\n",
    "\n",
    "\n",
    "\n",
    "\n",
    "\n",
    "\n",
    "\n",
    "\n",
    "\n",
    "\n",
    "\n",
    "\n",
    "\n",
    "\n",
    "\n",
    "\n",
    "##fIND the top 10 ranked songs\n",
    "select distinct year_rank as ked, group_name , song_name\n",
    "from billboard_top_100_year_end\n",
    "where year = 2010\n",
    "and year_rank <=10\n",
    "order by year_rank;\n"
   ]
  }
 ],
 "metadata": {
  "language_info": {
   "name": "python"
  }
 },
 "nbformat": 4,
 "nbformat_minor": 2
}
