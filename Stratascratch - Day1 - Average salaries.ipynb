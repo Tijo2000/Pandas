{
 "cells": [
  {
   "cell_type": "code",
   "execution_count": null,
   "metadata": {},
   "outputs": [],
   "source": [
    "#Stratascratch\n",
    "#Day1\n",
    "Average Salaries\n",
    "Compare each employee's salary with the average salary of the corresponding department.\n",
    "Output the department, first name, and salary of employees along with the average salary of that department.\n",
    "\n",
    "\n",
    "# Import your libraries\n",
    "import pandas as pd\n",
    "\n",
    "# Start writing code\n",
    "employee.head()\n",
    "\n",
    "result_df = employee.groupby('department')['salary'].mean()\n",
    "result_df = result_df.reset_index()\n",
    "result_df.rename(columns={'salary': 'avg_salary'}, inplace=True)\n",
    "result_df\n",
    "\n",
    "merged_result = pd.merge(employee, result_df, on ='department' , how = 'left')\n",
    "merged_result =  merged_result[['department','first_name','salary','avg_salary']]\n",
    "merged_result"
   ]
  }
 ],
 "metadata": {
  "language_info": {
   "name": "python"
  },
  "orig_nbformat": 4
 },
 "nbformat": 4,
 "nbformat_minor": 2
}
