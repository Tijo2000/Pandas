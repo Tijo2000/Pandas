{
 "cells": [
  {
   "cell_type": "code",
   "execution_count": null,
   "metadata": {},
   "outputs": [],
   "source": [
    "#Find matching hosts and guests in a way that they are both of the same gender and nationality\n",
    "# Import your libraries\n",
    "import pandas as pd\n",
    "\n",
    "# Start writing code\n",
    "airbnb_hosts.head()\n",
    "\n",
    "pd.merge(airbnb_hosts,airbnb_guests, on = ['nationality','gender']).drop_duplicates()[['host_id','guest_id']]\n",
    "\n",
    "\n",
    "\n",
    "\n",
    "select distinct h.host_id , g.guest_id \n",
    "from airbnb_hosts as h\n",
    "LEFT JOIN airbnb_guests as g\n",
    "ON h.nationality = g.nationality \n",
    "and h.gender = g.gender;\n"
   ]
  }
 ],
 "metadata": {
  "language_info": {
   "name": "python"
  }
 },
 "nbformat": 4,
 "nbformat_minor": 2
}
