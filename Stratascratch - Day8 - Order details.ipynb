{
 "cells": [
  {
   "cell_type": "code",
   "execution_count": null,
   "metadata": {},
   "outputs": [],
   "source": [
    "#Stratascratch\n",
    "#Day8\n",
    "# Order Details\n",
    "\n",
    "# Import your libraries\n",
    "import pandas as pd\n",
    "\n",
    "# Start writing code\n",
    "customers.head()\\\n",
    "\n",
    "df = pd.merge(orders,customers,left_on='cust_id',right_on='id',how='left')\n",
    "\n",
    "df[df['first_name'].isin(['Jill','Eva'])].sort_values(by='cust_id')[['first_name','order_date','order_details','total_order_cost']]"
   ]
  }
 ],
 "metadata": {
  "language_info": {
   "name": "python"
  },
  "orig_nbformat": 4
 },
 "nbformat": 4,
 "nbformat_minor": 2
}
