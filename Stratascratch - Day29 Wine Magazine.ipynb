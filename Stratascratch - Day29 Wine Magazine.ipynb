{
 "cells": [
  {
   "cell_type": "code",
   "execution_count": null,
   "metadata": {},
   "outputs": [],
   "source": [
    "#find all wineries\n",
    "# Import your libraries\n",
    "import pandas as pd\n",
    "\n",
    "# Start writing code\n",
    "winemag_p1.head()\n",
    "\n",
    "winemag_p1[winemag_p1['description'].str.lower().str.contains('(plum|cherry|rose|hazelnut)([^a-z])')].drop_duplicates()[['winery']]\n",
    "\n",
    "\n",
    "\n",
    "select distinct winery\n",
    "from winemag_p1\n",
    "where LOWER(description)  regexp('(plum|cherry|rose|hazelnut)([^a-z])');"
   ]
  }
 ],
 "metadata": {
  "language_info": {
   "name": "python"
  }
 },
 "nbformat": 4,
 "nbformat_minor": 2
}
