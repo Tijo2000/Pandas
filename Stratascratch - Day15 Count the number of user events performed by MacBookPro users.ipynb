{
 "cells": [
  {
   "cell_type": "code",
   "execution_count": null,
   "metadata": {},
   "outputs": [],
   "source": [
    "#Stratascratch\n",
    "#Day15\n",
    "# Count the number of user events performed by MacBookPro users\n",
    "\n",
    "# Import your libraries\n",
    "import pandas as pd\n",
    "\n",
    "# Start writing code\n",
    "playbook_events.head()\n",
    "\n",
    "playbook_events[playbook_events['device'] == 'macbook pro'].groupby('event_name')['user_id'].count().reset_index().rename(columns = {'user_id':'event_count'}).sort_values(by = 'event_count', ascending = False)"
   ]
  }
 ],
 "metadata": {
  "language_info": {
   "name": "python"
  },
  "orig_nbformat": 4
 },
 "nbformat": 4,
 "nbformat_minor": 2
}
