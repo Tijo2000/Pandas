{
 "cells": [
  {
   "cell_type": "code",
   "execution_count": null,
   "metadata": {},
   "outputs": [],
   "source": [
    "#Stratascratch\n",
    "#Day22\n",
    "#Largest Olympics\n",
    "\n",
    "# Import your libraries\n",
    "import pandas as pd\n",
    "\n",
    "# Start writing code\n",
    "olympics_athletes_events.head()\n",
    "\n",
    "df = olympics_athletes_events.groupby('games')['id'].nunique().reset_index().rename(columns = {'id':'athletes_count'})\n",
    "\n",
    "df[df['athletes_count'] == df['athletes_count'].max()]"
   ]
  }
 ],
 "metadata": {
  "language_info": {
   "name": "python"
  },
  "orig_nbformat": 4
 },
 "nbformat": 4,
 "nbformat_minor": 2
}
