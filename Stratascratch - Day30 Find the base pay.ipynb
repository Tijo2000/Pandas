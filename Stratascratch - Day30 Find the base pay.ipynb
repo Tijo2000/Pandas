{
 "cells": [
  {
   "cell_type": "code",
   "execution_count": null,
   "metadata": {},
   "outputs": [],
   "source": [
    "#Find the base pay for Police Captains\n",
    "# Import your libraries\n",
    "import pandas as pd\n",
    "\n",
    "# Start writing code\n",
    "sf_public_salaries.head\n",
    "\n",
    "sf_public_salaries[sf_public_salaries['jobtitle'].str.lower().str.contains('captain')][['employeename','basepay']]\n",
    "\n",
    "\n",
    "\n",
    "select employeename , basepay \n",
    "from sf_public_salaries\n",
    "where lower(jobtitle) like'%captain%'"
   ]
  }
 ],
 "metadata": {
  "language_info": {
   "name": "python"
  }
 },
 "nbformat": 4,
 "nbformat_minor": 2
}
