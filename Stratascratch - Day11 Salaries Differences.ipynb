{
 "cells": [
  {
   "cell_type": "code",
   "execution_count": null,
   "metadata": {},
   "outputs": [],
   "source": [
    "#Stratascratch\n",
    "#Day11\n",
    "# Salaries Differences\n",
    "\n",
    "# Import your libraries\n",
    "import pandas as pd\n",
    "\n",
    "# Start writing code\n",
    "db_employee.head()\n",
    "\n",
    "#Merge \n",
    "result_df = pd.merge(db_employee, db_dept, left_on = 'department_id', right_on = 'id', how = 'left')\n",
    "result_df\n",
    "\n",
    "abs(result_df[result_df['department'].isin(['marketing','engineering'])].groupby('department')['salary'].max().reset_index()['salary'].diff().iloc[1])"
   ]
  }
 ],
 "metadata": {
  "language_info": {
   "name": "python"
  },
  "orig_nbformat": 4
 },
 "nbformat": 4,
 "nbformat_minor": 2
}
