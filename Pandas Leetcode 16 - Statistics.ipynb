{
 "cells": [
  {
   "cell_type": "code",
   "execution_count": null,
   "metadata": {},
   "outputs": [],
   "source": [
    "#Pandas Leetcode 16 - Statistics\n",
    "+-------------+------+\n",
    "| Column Name | Type |\n",
    "+-------------+------+\n",
    "| bill_id     | int  |\n",
    "| customer_id | int  |\n",
    "| amount      | int  |\n",
    "+-------------+------+\n",
    "bill_id is the primary key (column with unique values) for this table.\n",
    "Each row contains information about the amount of one bill and the customer associated with it.\n",
    " \n",
    "\n",
    "Write a solution to report the number of customers who had at least one bill with an amount strictly greater than 500.\n",
    "\n",
    "The result format is in the following example.\n",
    "\n",
    " \n",
    "\n",
    "Example 1:\n",
    "\n",
    "Input: \n",
    "Store table:\n",
    "+---------+-------------+--------+\n",
    "| bill_id | customer_id | amount |\n",
    "+---------+-------------+--------+\n",
    "| 6       | 1           | 549    |\n",
    "| 8       | 1           | 834    |\n",
    "| 4       | 2           | 394    |\n",
    "| 11      | 3           | 657    |\n",
    "| 13      | 3           | 257    |\n",
    "+---------+-------------+--------+\n",
    "Output: \n",
    "+------------+\n",
    "| rich_count |\n",
    "+------------+\n",
    "| 2          |\n",
    "+------------+\n",
    "Explanation: \n",
    "Customer 1 has two bills with amounts strictly greater than 500.\n",
    "Customer 2 does not have any bills with an amount strictly greater than 500.\n",
    "Customer 3 has one bill with an amount strictly greater than 500."
   ]
  },
  {
   "cell_type": "code",
   "execution_count": null,
   "metadata": {},
   "outputs": [],
   "source": [
    "import pandas as pd\n",
    "\n",
    "def count_rich_customers(store: pd.DataFrame) -> pd.DataFrame:\n",
    "    #Filter amount greater than 500\n",
    "    rich_customers = store[store['amount']>500]\n",
    "\n",
    "    #Filter Unique customer ids\n",
    "    unique_rich_customers = rich_customers['customer_id'].nunique()\n",
    "\n",
    "    result_df = pd.DataFrame({'rich_count' :[unique_rich_customers]})\n",
    "    return result_df\n",
    "\n"
   ]
  }
 ],
 "metadata": {
  "language_info": {
   "name": "python"
  },
  "orig_nbformat": 4
 },
 "nbformat": 4,
 "nbformat_minor": 2
}
