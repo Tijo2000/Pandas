{
 "cells": [
  {
   "cell_type": "code",
   "execution_count": null,
   "metadata": {},
   "outputs": [],
   "source": [
    "#Stratascratch\n",
    "#Day23\n",
    "#Ranking Most Active Guests\n",
    "\n",
    "# Import your libraries\n",
    "import pandas as pd\n",
    "\n",
    "# Start writing code\n",
    "df = airbnb_contacts.groupby('id_guest', as_index = False)['n_messages'].sum().sort_values(by='n_messages', ascending = False)\n",
    "\n",
    "df['ranking']=df['n_messages'].rank(ascending = False, method = 'dense')\n",
    "df[['ranking','id_guest','n_messages']]"
   ]
  }
 ],
 "metadata": {
  "language_info": {
   "name": "python"
  },
  "orig_nbformat": 4
 },
 "nbformat": 4,
 "nbformat_minor": 2
}
